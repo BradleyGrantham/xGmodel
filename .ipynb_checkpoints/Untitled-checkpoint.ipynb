{
 "cells": [
  {
   "cell_type": "code",
   "execution_count": 1,
   "metadata": {},
   "outputs": [],
   "source": [
    "import numpy as np\n",
    "import pandas as pd\n",
    "import matplotlib.pyplot as plt\n",
    "\n",
    "%matplotlib inline"
   ]
  },
  {
   "cell_type": "code",
   "execution_count": 2,
   "metadata": {},
   "outputs": [],
   "source": [
    "df = pd.read_csv('Football-data.co.uk/E0/17-18.csv', index_col=0)"
   ]
  },
  {
   "cell_type": "code",
   "execution_count": 4,
   "metadata": {},
   "outputs": [],
   "source": [
    "home = df.groupby('HomeTeam')[['xGH', 'xGA']].sum()\n",
    "away = df.groupby('AwayTeam')[['xGH', 'xGA']].sum()\n",
    "home.columns = ['home_for', 'home_against']\n",
    "away.columns = ['away_against', 'away_for']"
   ]
  },
  {
   "cell_type": "code",
   "execution_count": 6,
   "metadata": {},
   "outputs": [],
   "source": [
    "df = home.merge(away, right_index=True, left_index=True)\n",
    "df['for'] = df['home_for'] + df['away_for']\n",
    "df['against'] = df['home_against'] + df['away_against']"
   ]
  },
  {
   "cell_type": "code",
   "execution_count": 8,
   "metadata": {},
   "outputs": [],
   "source": [
    "df['xgd'] = df['for'] - df['against']"
   ]
  },
  {
   "cell_type": "code",
   "execution_count": 19,
   "metadata": {},
   "outputs": [
    {
     "name": "stdout",
     "output_type": "stream",
     "text": [
      "HomeTeam\n",
      "Man City          11.957302\n",
      "Man United         9.067435\n",
      "Tottenham          8.721537\n",
      "Arsenal            5.324711\n",
      "Liverpool          4.780873\n",
      "Newcastle          1.755917\n",
      "Southampton       -0.487423\n",
      "West Brom         -0.554877\n",
      "Chelsea           -0.934771\n",
      "West Ham          -1.061463\n",
      "Everton           -1.168903\n",
      "Stoke             -1.538109\n",
      "Leicester         -1.764156\n",
      "Huddersfield      -2.829203\n",
      "Watford           -3.655041\n",
      "Brighton          -4.080446\n",
      "Bournemouth       -4.413230\n",
      "Crystal Palace    -4.851213\n",
      "Burnley           -7.118375\n",
      "Swansea           -7.150565\n",
      "Name: xgd, dtype: float64\n"
     ]
    }
   ],
   "source": [
    "print df['xgd'].sort_values(ascending=False)"
   ]
  },
  {
   "cell_type": "code",
   "execution_count": 18,
   "metadata": {},
   "outputs": [
    {
     "data": {
      "text/plain": [
       "0.61878339180614084"
      ]
     },
     "execution_count": 18,
     "metadata": {},
     "output_type": "execute_result"
    }
   ],
   "source": [
    "np.exp(-0.16*3)"
   ]
  },
  {
   "cell_type": "code",
   "execution_count": 25,
   "metadata": {},
   "outputs": [],
   "source": [
    "x = np.linspace(0, 20, num=100)\n",
    "home = np.exp(-0.16*x)\n",
    "away = 1 - np.exp(-0.16*x)"
   ]
  },
  {
   "cell_type": "code",
   "execution_count": 29,
   "metadata": {},
   "outputs": [
    {
     "data": {
      "text/plain": [
       "<matplotlib.legend.Legend at 0x107a372d0>"
      ]
     },
     "execution_count": 29,
     "metadata": {},
     "output_type": "execute_result"
    },
    {
     "data": {
      "image/png": "[encoded data removed]",
      "text/plain": [
       "<matplotlib.figure.Figure at 0x107845c50>"
      ]
     },
     "metadata": {},
     "output_type": "display_data"
    }
   ],
   "source": [
    "plt.figure()\n",
    "plt.plot(x, home, c='r', label='Previous season')\n",
    "plt.plot(x, away, c='b', label='Current season')\n",
    "plt.ylabel(\"Weighting\")\n",
    "plt.xlabel(\"Home/ away games\")\n",
    "plt.legend()"
   ]
  },
  {
   "cell_type": "code",
   "execution_count": null,
   "metadata": {},
   "outputs": [],
   "source": []
  }
 ],
 "metadata": {
  "kernelspec": {
   "display_name": "Python 2",
   "language": "python",
   "name": "python2"
  },
  "language_info": {
   "codemirror_mode": {
    "name": "ipython",
    "version": 2
   },
   "file_extension": ".py",
   "mimetype": "text/x-python",
   "name": "python",
   "nbconvert_exporter": "python",
   "pygments_lexer": "ipython2",
   "version": "2.7.13"
  }
 },
 "nbformat": 4,
 "nbformat_minor": 2
}
